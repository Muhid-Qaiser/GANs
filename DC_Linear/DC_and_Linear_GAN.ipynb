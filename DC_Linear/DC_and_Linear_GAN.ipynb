{
 "cells": [
  {
   "cell_type": "code",
   "execution_count": 642,
   "metadata": {},
   "outputs": [],
   "source": [
    "import torch\n",
    "import torch.nn as nn\n",
    "from torchsummary import summary\n",
    "import torch.optim as optim\n",
    "import torchvision\n",
    "import torchvision.datasets as datasets\n",
    "import torchvision.transforms as transforms\n",
    "from torch.utils.data import DataLoader\n",
    "from torch.utils.tensorboard import SummaryWriter\n",
    "import matplotlib.pyplot as plt\n",
    "import os"
   ]
  },
  {
   "cell_type": "code",
   "execution_count": 643,
   "metadata": {},
   "outputs": [],
   "source": [
    "LEARNING_RATE2 = 2e-4\n",
    "LEARNING_RATE1 = 1e-4\n",
    "BATCH_SIZE = 128\n",
    "IMAGE_SIZE = 28\n",
    "CHANNELS_IMG = 1\n",
    "Z_DIM = 100\n",
    "NUM_EPOCHS = 100\n",
    "FEATURES_DISC = 64\n",
    "FEATURES_GEN = 64"
   ]
  },
  {
   "cell_type": "code",
   "execution_count": 644,
   "metadata": {},
   "outputs": [],
   "source": [
    "device = torch.device(\"cuda\" if torch.cuda.is_available() else \"cpu\")"
   ]
  },
  {
   "cell_type": "code",
   "execution_count": 645,
   "metadata": {},
   "outputs": [],
   "source": [
    "transforms = transforms.Compose(\n",
    "    [\n",
    "        transforms.Resize(IMAGE_SIZE),\n",
    "        transforms.ToTensor(),\n",
    "        transforms.Normalize([0.5 for _ in range(CHANNELS_IMG)], [0.5 for _ in range(CHANNELS_IMG)]),\n",
    "    ]\n",
    ")"
   ]
  },
  {
   "cell_type": "code",
   "execution_count": 646,
   "metadata": {},
   "outputs": [],
   "source": [
    "dataset = datasets.MNIST(root='dataset/', train=True, transform=transforms, download=True)\n",
    "\n",
    "loader = DataLoader(dataset, batch_size=BATCH_SIZE, shuffle=True)"
   ]
  },
  {
   "cell_type": "code",
   "execution_count": 647,
   "metadata": {},
   "outputs": [
    {
     "data": {
      "image/png": "[encoded data removed]",
      "text/plain": [
       "<Figure size 640x480 with 1 Axes>"
      ]
     },
     "metadata": {},
     "output_type": "display_data"
    }
   ],
   "source": [
    "# Load dataset and DataLoader\n",
    "dataset = datasets.MNIST(root='dataset/', train=True, transform=transforms, download=True)\n",
    "loader = DataLoader(dataset, batch_size=BATCH_SIZE, shuffle=True)\n",
    "\n",
    "# Fetch one batch of images\n",
    "data_iter = iter(loader)\n",
    "images, labels = next(data_iter)\n",
    "\n",
    "# Select one image\n",
    "image = images[0]\n",
    "label = labels[0]\n",
    "\n",
    "# Convert the image tensor to a numpy array for displaying\n",
    "image = image.numpy().squeeze()  # Remove channel dimension (if necessary)\n",
    "\n",
    "# Display the image\n",
    "plt.imshow(image, cmap='gray')\n",
    "plt.title(f'Label: {label.item()}')\n",
    "plt.axis('off')\n",
    "plt.show()"
   ]
  },
  {
   "cell_type": "code",
   "execution_count": 648,
   "metadata": {},
   "outputs": [
    {
     "name": "stdout",
     "output_type": "stream",
     "text": [
      "torch.Size([60000, 28, 28])\n",
      "torch.Size([28, 28])\n"
     ]
    }
   ],
   "source": [
    "print(loader.dataset.data.shape)\n",
    "\n",
    "print(dataset.data[0].shape)"
   ]
  },
  {
   "cell_type": "markdown",
   "metadata": {},
   "source": [
    "size of image will be 28x28x1"
   ]
  },
  {
   "cell_type": "code",
   "execution_count": 649,
   "metadata": {},
   "outputs": [],
   "source": [
    "class Discriminator(nn.Module):\n",
    "    def __init__(self, channels_img, features_d):\n",
    "        super(Discriminator, self).__init__()\n",
    "\n",
    "        self.disc = nn.Sequential(\n",
    "            \n",
    "            # DC\n",
    "            nn.Conv2d(channels_img, features_d, kernel_size=3, stride=1, padding=1),\n",
    "            nn.LeakyReLU(0.2),\n",
    "            self._block(features_d, features_d*2, 3, 1, 1),     # Divides width and height by 2\n",
    "            self._block(features_d*2, features_d*4, 3, 2, 1),   # Divides width and height by 2\n",
    "            self._block(features_d*4, features_d*4, 3, 1, 1),   # Divides width and height by 2\n",
    "            self._block(features_d*4, features_d*8, 3, 2, 1),   # Divides width and height by 2\n",
    "            self._block(features_d*8, features_d*8, 3, 1, 1),   # Divides width and height by 2\n",
    "            self._block(features_d*8, 64, 3, 1, 0),   # Divides width and height by 2\n",
    "\n",
    "            # FC\n",
    "            nn.Flatten(),\n",
    "            nn.Linear(64*5*5, 256),\n",
    "            nn.BatchNorm1d(256),\n",
    "            nn.ReLU(0.2),\n",
    "            nn.Linear(256, 1),\n",
    "            nn.Sigmoid()\n",
    "        )\n",
    "\n",
    "        \n",
    "\n",
    "    \n",
    "    def _block(self, in_channels, out_channels, kernel_size, stride, padding):\n",
    "\n",
    "        return nn.Sequential(\n",
    "            nn.Conv2d(in_channels=in_channels, out_channels=out_channels, kernel_size=kernel_size, stride=stride, padding=padding, bias=False),\n",
    "            nn.BatchNorm2d(out_channels),\n",
    "            nn.LeakyReLU(0.2),\n",
    "        )\n",
    "    \n",
    "    def forward(self, x):\n",
    "        return self.disc(x)\n",
    "\n",
    "\n"
   ]
  },
  {
   "cell_type": "code",
   "execution_count": 650,
   "metadata": {},
   "outputs": [],
   "source": [
    "class Generator(nn.Module):\n",
    "    def __init__(self, z_dim, channels_img, features_g):\n",
    "        super(Generator, self).__init__()\n",
    "\n",
    "        # * 5M parameters\n",
    "        # self.gen = nn.Sequential(\n",
    "        #     self._block(z_dim, features_g*8, 3, 1, 1),  # N x f_g*8 x 28 x 28\n",
    "        #     self._block(features_g*8, features_g*8, 3, 2, 0), # 56 x 56\n",
    "        #     self._block(features_g*8, features_g*4, 3, 2, 0), # 112 x 112\n",
    "        #     self._block(features_g*4, features_g*4, 3, 2, 0), # 223 x 223\n",
    "        #     self._block(features_g*4, features_g*2, 4, 2, 2), # 444 x 444\n",
    "\n",
    "        #     nn.ConvTranspose2d(features_g*2, channels_img, kernel_size=5, stride=1, padding=2), # 448 x 448\n",
    "        #     nn.Tanh() # Output = [-1, 1]\n",
    "        # )\n",
    "\n",
    "        # *  2.7 M parameters\n",
    "        self.gen = nn.Sequential(\n",
    "            self._block(z_dim, features_g*8, 3, 1, 0),  # N x f_g*8 x 28 x 28\n",
    "            # self._block(features_g*8, features_g*8, 3, 2, 0), # 56 x 56\n",
    "            self._block(features_g*8, features_g*4, 3, 2, 0), # 112 x 112\n",
    "            self._block(features_g*4, features_g*4, 3, 2, 1), # 223 x 223\n",
    "            self._block(features_g*4, features_g*2, 4, 2, 1), # 444 x 444\n",
    "\n",
    "            nn.ConvTranspose2d(features_g*2, channels_img, kernel_size=5, stride=1, padding=1), # 448 x 448\n",
    "            nn.Tanh() # Output = [-1, 1]\n",
    "        )\n",
    "\n",
    "    \n",
    "    def _block(self, in_channels, out_channels, kernel_size, stride, padding):\n",
    "        \n",
    "        return nn.Sequential(\n",
    "            nn.ConvTranspose2d(in_channels=in_channels, out_channels=out_channels, kernel_size=kernel_size, stride=stride, padding=padding, bias=False),\n",
    "            nn.BatchNorm2d(out_channels),\n",
    "            nn.LeakyReLU(),\n",
    "        )\n",
    "    \n",
    "\n",
    "    def forward(self, x):\n",
    "        return self.gen(x)"
   ]
  },
  {
   "cell_type": "code",
   "execution_count": 651,
   "metadata": {},
   "outputs": [
    {
     "name": "stdout",
     "output_type": "stream",
     "text": [
      "----------------------------------------------------------------\n",
      "        Layer (type)               Output Shape         Param #\n",
      "================================================================\n",
      "   ConvTranspose2d-1            [-1, 512, 3, 3]         460,800\n",
      "       BatchNorm2d-2            [-1, 512, 3, 3]           1,024\n",
      "         LeakyReLU-3            [-1, 512, 3, 3]               0\n",
      "   ConvTranspose2d-4            [-1, 256, 7, 7]       1,179,648\n",
      "       BatchNorm2d-5            [-1, 256, 7, 7]             512\n",
      "         LeakyReLU-6            [-1, 256, 7, 7]               0\n",
      "   ConvTranspose2d-7          [-1, 256, 13, 13]         589,824\n",
      "       BatchNorm2d-8          [-1, 256, 13, 13]             512\n",
      "         LeakyReLU-9          [-1, 256, 13, 13]               0\n",
      "  ConvTranspose2d-10          [-1, 128, 26, 26]         524,288\n",
      "      BatchNorm2d-11          [-1, 128, 26, 26]             256\n",
      "        LeakyReLU-12          [-1, 128, 26, 26]               0\n",
      "  ConvTranspose2d-13            [-1, 1, 28, 28]           3,201\n",
      "             Tanh-14            [-1, 1, 28, 28]               0\n",
      "================================================================\n",
      "Total params: 2,760,065\n",
      "Trainable params: 2,760,065\n",
      "Non-trainable params: 0\n",
      "----------------------------------------------------------------\n",
      "Input size (MB): 0.00\n",
      "Forward/backward pass size (MB): 3.38\n",
      "Params size (MB): 10.53\n",
      "Estimated Total Size (MB): 13.90\n",
      "----------------------------------------------------------------\n"
     ]
    }
   ],
   "source": [
    "disc = Discriminator(CHANNELS_IMG, FEATURES_DISC).to(device)\n",
    "gen = Generator(Z_DIM, CHANNELS_IMG, FEATURES_GEN).to(device)\n",
    "\n",
    "# summary(disc, (1, 28, 28))\n",
    "summary(gen, (Z_DIM,1, 1))"
   ]
  },
  {
   "cell_type": "code",
   "execution_count": 652,
   "metadata": {},
   "outputs": [],
   "source": [
    "def initialize_weights(model):\n",
    "    for m in model.modules():\n",
    "        if isinstance(m, (nn.Conv2d, nn.ConvTranspose2d, nn.BatchNorm2d)):\n",
    "            nn.init.normal_(m.weight.data, 0.0, 0.02)"
   ]
  },
  {
   "cell_type": "code",
   "execution_count": 653,
   "metadata": {},
   "outputs": [
    {
     "name": "stdout",
     "output_type": "stream",
     "text": [
      "Success\n"
     ]
    }
   ],
   "source": [
    "device = torch.device(\"cuda\" if torch.cuda.is_available() else \"cpu\")\n",
    "\n",
    "def test():\n",
    "    N, in_channels, H, W = 8, 1, 28, 28\n",
    "    z_dim = 100\n",
    "    x = torch.randn((N, in_channels, H, W)).to(device)\n",
    "    disc = Discriminator(in_channels, 8).to(device)\n",
    "    initialize_weights(disc)\n",
    "    assert disc(x).shape == (N, 1)\n",
    "\n",
    "    z = torch.randn((N, z_dim, 1, 1)).to(device)\n",
    "    gen = Generator(z_dim, in_channels, 8).to(device)\n",
    "    initialize_weights(gen)\n",
    "    assert gen(z).shape == (N, in_channels, H, W)\n",
    "\n",
    "    print(\"Success\")\n",
    "\n",
    "\n",
    "test()"
   ]
  },
  {
   "cell_type": "code",
   "execution_count": 654,
   "metadata": {},
   "outputs": [],
   "source": [
    "gen = Generator(Z_DIM, CHANNELS_IMG, FEATURES_GEN).to(device)\n",
    "disc = Discriminator(CHANNELS_IMG, FEATURES_DISC).to(device)\n",
    "initialize_weights(gen)\n",
    "initialize_weights(disc)"
   ]
  },
  {
   "cell_type": "code",
   "execution_count": 655,
   "metadata": {},
   "outputs": [],
   "source": [
    "opt_gen = optim.Adam(gen.parameters(), lr=LEARNING_RATE1, betas=(0.5, 0.999))\n",
    "opt_disc = optim.Adam(disc.parameters(), lr=LEARNING_RATE2, betas=(0.5, 0.999))\n",
    "criterion = nn.BCELoss()"
   ]
  },
  {
   "cell_type": "code",
   "execution_count": 656,
   "metadata": {},
   "outputs": [],
   "source": [
    "fixed_noise = torch.randn(32, Z_DIM, 1, 1).to(device)\n",
    "writer_real = SummaryWriter(f'logs3/real')\n",
    "writer_fake = SummaryWriter(f'logs3/fake')\n",
    "step = 0"
   ]
  },
  {
   "cell_type": "code",
   "execution_count": 662,
   "metadata": {},
   "outputs": [],
   "source": [
    "\n",
    "# Define directories to save the weights\n",
    "SAVE_MODEL_DIR = \"checkpoints_torch4\"\n",
    "GEN_WEIGHTS_DIR = os.path.join(SAVE_MODEL_DIR, \"generator\")\n",
    "DISC_WEIGHTS_DIR = os.path.join(SAVE_MODEL_DIR, \"discriminator\")\n",
    "\n",
    "\n",
    "# Create directories if they don't exist\n",
    "os.makedirs(GEN_WEIGHTS_DIR, exist_ok=True)\n",
    "os.makedirs(DISC_WEIGHTS_DIR, exist_ok=True)\n"
   ]
  },
  {
   "cell_type": "code",
   "execution_count": 681,
   "metadata": {},
   "outputs": [],
   "source": [
    "gen.train()\n",
    "disc.train()\n",
    "\n",
    "for epoch in range(100, NUM_EPOCHS+100):\n",
    "    for batch_idx, (real, _) in enumerate(loader):\n",
    "        real = real.to(device)\n",
    "        noise = torch.randn((BATCH_SIZE, Z_DIM, 1, 1)).to(device)\n",
    "        fake = gen(noise)\n",
    "\n",
    "        # Train Discriminator\n",
    "        disc_real = disc(real).reshape(-1)\n",
    "        loss_disc_real = criterion(disc_real, torch.ones_like(disc_real))\n",
    "        disc_fake = disc(fake).reshape(-1)\n",
    "        loss_disc_fake = criterion(disc_fake, torch.zeros_like(disc_fake))\n",
    "        loss_disc = (loss_disc_real + loss_disc_fake) / 2\n",
    "        disc.zero_grad()\n",
    "        loss_disc.backward(retain_graph=True)\n",
    "        opt_disc.step()\n",
    "\n",
    "        # Train Generator\n",
    "        output = disc(fake).reshape(-1)\n",
    "        loss_gen = criterion(output, torch.ones_like(output))\n",
    "        gen.zero_grad()\n",
    "        loss_gen.backward()\n",
    "        opt_gen.step()\n",
    "\n",
    "        # Print losses occasionally and print to tensorboard\n",
    "        if batch_idx % 100 == 0:\n",
    "            # print(\n",
    "            #     f\"Epoch [{epoch}/{NUM_EPOCHS}] Batch {batch_idx}/{len(loader)} \\\n",
    "            #       Loss D: {loss_disc:.4f}, loss G: {loss_gen:.4f}\"\n",
    "            # )\n",
    "\n",
    "            # Display a few images\n",
    "            with torch.no_grad():\n",
    "                fake = gen(fixed_noise)\n",
    "                # take out (up to) 32 examples\n",
    "                img_grid_real = torchvision.utils.make_grid(real[:32], normalize=True)\n",
    "                img_grid_fake = torchvision.utils.make_grid(fake[:32], normalize=True)\n",
    "\n",
    "                writer_real.add_image(\"Real\", img_grid_real, global_step=step)\n",
    "                writer_fake.add_image(\"Fake\", img_grid_fake, global_step=step)\n",
    "\n",
    "            step += 1\n",
    "\n",
    "    if epoch % 5 == 0:\n",
    "        # Convert images from torch.Tensor to numpy array for plotting\n",
    "        img_real = img_grid_real.permute(1, 2, 0).cpu().numpy()\n",
    "        img_fake = img_grid_fake.permute(1, 2, 0).cpu().numpy()\n",
    "\n",
    "        # Plot the real and fake images side by side\n",
    "        plt.figure(figsize=(10, 5))\n",
    "        plt.subplot(1, 2, 1)\n",
    "        plt.title(\"Real Images\")\n",
    "        plt.imshow(img_real)\n",
    "        plt.axis(\"off\")\n",
    "\n",
    "        plt.subplot(1, 2, 2)\n",
    "        plt.title(\"Fake Images\")\n",
    "        plt.imshow(img_fake)\n",
    "        plt.axis(\"off\")\n",
    "\n",
    "        plt.show()\n",
    "\n",
    "        # Save model weights after each epoch\n",
    "        gen_path = os.path.join(GEN_WEIGHTS_DIR, f\"gen_epoch_{epoch+1}.pth\")\n",
    "        disc_path = os.path.join(DISC_WEIGHTS_DIR, f\"disc_epoch_{epoch+1}.pth\")\n",
    "        \n",
    "        torch.save(gen.state_dict(), gen_path)\n",
    "        torch.save(disc.state_dict(), disc_path)\n",
    "        print(f\"Saved Generator and Discriminator weights for epoch {epoch+1}\")\n",
    "        "
   ]
  },
  {
   "cell_type": "code",
   "execution_count": null,
   "metadata": {},
   "outputs": [],
   "source": []
  },
  {
   "cell_type": "markdown",
   "metadata": {},
   "source": [
    "# Load good Weights"
   ]
  },
  {
   "cell_type": "code",
   "execution_count": 684,
   "metadata": {},
   "outputs": [
    {
     "name": "stdout",
     "output_type": "stream",
     "text": [
      "Loaded Generator and Discriminator weights for epoch 100\n"
     ]
    },
    {
     "name": "stderr",
     "output_type": "stream",
     "text": [
      "C:\\Users\\pc\\AppData\\Local\\Temp\\ipykernel_29944\\2839443076.py:2: FutureWarning: You are using `torch.load` with `weights_only=False` (the current default value), which uses the default pickle module implicitly. It is possible to construct malicious pickle data which will execute arbitrary code during unpickling (See https://github.com/pytorch/pytorch/blob/main/SECURITY.md#untrusted-models for more details). In a future release, the default value for `weights_only` will be flipped to `True`. This limits the functions that could be executed during unpickling. Arbitrary objects will no longer be allowed to be loaded via this mode unless they are explicitly allowlisted by the user via `torch.serialization.add_safe_globals`. We recommend you start setting `weights_only=True` for any use case where you don't have full control of the loaded file. Please open an issue on GitHub for any issues related to this experimental feature.\n",
      "  gen.load_state_dict(torch.load(os.path.join(GEN_WEIGHTS_DIR, f\"gen_epoch_76.pth\")))\n",
      "C:\\Users\\pc\\AppData\\Local\\Temp\\ipykernel_29944\\2839443076.py:6: FutureWarning: You are using `torch.load` with `weights_only=False` (the current default value), which uses the default pickle module implicitly. It is possible to construct malicious pickle data which will execute arbitrary code during unpickling (See https://github.com/pytorch/pytorch/blob/main/SECURITY.md#untrusted-models for more details). In a future release, the default value for `weights_only` will be flipped to `True`. This limits the functions that could be executed during unpickling. Arbitrary objects will no longer be allowed to be loaded via this mode unless they are explicitly allowlisted by the user via `torch.serialization.add_safe_globals`. We recommend you start setting `weights_only=True` for any use case where you don't have full control of the loaded file. Please open an issue on GitHub for any issues related to this experimental feature.\n",
      "  disc.load_state_dict(torch.load(os.path.join(DISC_WEIGHTS_DIR, f\"disc_epoch_76.pth\")))\n"
     ]
    }
   ],
   "source": [
    "\n",
    "# Load Generator weights\n",
    "gen.load_state_dict(torch.load(os.path.join(GEN_WEIGHTS_DIR, f\"gen_epoch_76.pth\")))\n",
    "gen.to(device)  # Move Generator to the device\n",
    "\n",
    "# Load Discriminator weights\n",
    "disc.load_state_dict(torch.load(os.path.join(DISC_WEIGHTS_DIR, f\"disc_epoch_76.pth\")))\n",
    "disc.to(device)  # Move Discriminator to the device\n",
    "\n",
    "print(f\"Loaded Generator and Discriminator weights for epoch {100}\")\n"
   ]
  },
  {
   "cell_type": "code",
   "execution_count": 685,
   "metadata": {},
   "outputs": [
    {
     "data": {
      "image/png": "[encoded data removed]",
      "text/plain": [
       "<Figure size 640x480 with 1 Axes>"
      ]
     },
     "metadata": {},
     "output_type": "display_data"
    }
   ],
   "source": [
    "# Display a few images\n",
    "with torch.no_grad():\n",
    "    fake = gen(fixed_noise)\n",
    "    # take out (up to) 32 examples\n",
    "    img_grid_fake = torchvision.utils.make_grid(fake[:32], normalize=True)\n",
    "\n",
    "     # Convert images from torch.Tensor to numpy array for plotting\n",
    "    img_fake = img_grid_fake.permute(1, 2, 0).cpu().numpy()\n",
    "\n",
    "\n",
    "    plt.subplot(1, 2, 2)\n",
    "    plt.title(\"Fake Images\")\n",
    "    plt.imshow(img_fake)\n",
    "    plt.axis(\"off\")\n",
    "\n",
    "    plt.show()"
   ]
  },
  {
   "cell_type": "code",
   "execution_count": null,
   "metadata": {},
   "outputs": [],
   "source": []
  }
 ],
 "metadata": {
  "kernelspec": {
   "display_name": "Python 3",
   "language": "python",
   "name": "python3"
  },
  "language_info": {
   "codemirror_mode": {
    "name": "ipython",
    "version": 3
   },
   "file_extension": ".py",
   "mimetype": "text/x-python",
   "name": "python",
   "nbconvert_exporter": "python",
   "pygments_lexer": "ipython3",
   "version": "3.12.5"
  }
 },
 "nbformat": 4,
 "nbformat_minor": 2
}
